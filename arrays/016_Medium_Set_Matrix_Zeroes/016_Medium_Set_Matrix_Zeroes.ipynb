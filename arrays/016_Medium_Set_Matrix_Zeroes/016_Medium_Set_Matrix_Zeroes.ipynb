{
  "nbformat": 4,
  "nbformat_minor": 0,
  "metadata": {
    "colab": {
      "provenance": []
    },
    "kernelspec": {
      "name": "python3",
      "display_name": "Python 3"
    },
    "language_info": {
      "name": "python"
    }
  },
  "cells": [
    {
      "cell_type": "markdown",
      "source": [
        "**SOLUTION:**\n",
        "\n",
        "**Goal:**If a cell is 0, set its entire row and column to 0.Must do it in-place (O(1) extra space).\n",
        "\n",
        "**Key Idea** Use first row & first column as markers for which rows/columns should be zeroed.\n",
        "\n",
        "For matrix[i][j] == 0:\n",
        "- matrix[i][0] = 0 → mark row i\n",
        "- matrix[0][j] = 0 → mark column j\n",
        "This stores zero-info inside the matrix itself.\n",
        "\n",
        "**Steps**\n",
        "\n",
        "**1.Check first row & column**\n",
        "\n",
        "Determine if they originally contain 0.\n",
        "\n",
        "**Store in flags:**\n",
        "\n",
        "first_row_has_zero\n",
        "\n",
        "first_col_has_zero\n",
        "\n",
        "**2.Traverse the inner matrix (exclude first row/col)**\n",
        "\n",
        "If matrix[i][j] == 0 → mark matrix[i][0] and matrix[0][j].\n",
        "\n",
        "**3.Zero marked rows & columns**\n",
        "\n",
        "Row i: if matrix[i][0] == 0 → set entire row to 0\n",
        "\n",
        "Column j: if matrix[0][j] == 0 → set entire column to 0\n",
        "\n",
        "**4.Zero first row & column if needed**\n",
        "\n",
        "If first_row_has_zero → zero first row\n",
        "\n",
        "If first_col_has_zero → zero first column\n",
        "\n",
        "**Important Points**\n",
        "\n",
        "- Do not zero first row/col immediately, they are markers.\n",
        "\n",
        "- Flags distinguish between original 0 and marker 0."
      ],
      "metadata": {
        "id": "Pncve4TeVkz8"
      }
    },
    {
      "cell_type": "code",
      "execution_count": 2,
      "metadata": {
        "id": "01shfMSACSaf"
      },
      "outputs": [],
      "source": [
        "from typing import List\n",
        "class Solution:\n",
        "    def setZeroes(self, matrix: List[List[int]]) -> None:\n",
        "        rows = len(matrix) # total number of rows in the matrix\n",
        "        cols = len(matrix[0]) # total number of columns in the matrix\n",
        "        # A matrix is a list of rows, each row contains the columns\n",
        "\n",
        "        first_row_has_zero = False\n",
        "        first_col_has_zero = False\n",
        "        # Flags to indicate if the first row or first column originally has a zero\n",
        "\n",
        "\n",
        "        # check if the first row contains zero and set the flag\n",
        "        for c in range(cols):\n",
        "            if matrix[0][c] == 0:\n",
        "                first_row_has_zero = True\n",
        "                break\n",
        "\n",
        "        # check if the first column contains zero andd set the flag\n",
        "        for r in range(rows):\n",
        "            if matrix[r][0] == 0:\n",
        "                first_col_has_zero = True\n",
        "                break\n",
        "\n",
        "        #Use the first row and column as markers:if a cell is 0, mark its row and column by setting\n",
        "        # the first element of that row and column to 0\n",
        "        for r in range(1, rows):\n",
        "            for c in range(1, cols):\n",
        "                if matrix[r][c] == 0:\n",
        "                    matrix[r][0] = 0\n",
        "                    matrix[0][c] = 0\n",
        "\n",
        "        # set the marked rows to zero\n",
        "        for r in range(1, rows):  # Start from row 1 and check each row\n",
        "            if matrix[r][0] == 0: # If the first cell of the row is 0\n",
        "                for c in range(1, cols): # Set all other cells in this row to 0\n",
        "                    matrix[r][c] = 0\n",
        "\n",
        "        # set the marked columns to zero\n",
        "        for c in range(1, cols):\n",
        "            if matrix[0][c] == 0:\n",
        "                for r in range(1, rows):\n",
        "                    matrix[r][c] = 0\n",
        "\n",
        "        # set the first row to zero if needed\n",
        "        if first_row_has_zero:\n",
        "            for c in range(cols):\n",
        "                matrix[0][c] = 0\n",
        "\n",
        "        # set the first column to zero if needed\n",
        "        if first_col_has_zero:\n",
        "            for r in range(rows):\n",
        "                matrix[r][0] = 0\n",
        "\n",
        "        return matrix"
      ]
    },
    {
      "cell_type": "code",
      "source": [
        "# Test example 1\n",
        "matrix1 = [[1,1,1],[1,0,1],[1,1,1]]\n",
        "Solution().setZeroes(matrix1)\n",
        "print(\"Output 1:\", matrix1)\n",
        "# Output 1: [[1,0,1],[0,0,0],[1,0,1]]\n",
        "\n",
        "# Test example 2\n",
        "matrix2 = [[0,1,2,0],[3,4,5,2],[1,3,1,5]]\n",
        "Solution().setZeroes(matrix2)\n",
        "print(\"Output 2:\", matrix2)\n",
        "# Output 2: [[0,0,0,0],[0,4,5,0],[0,3,1,0]]"
      ],
      "metadata": {
        "colab": {
          "base_uri": "https://localhost:8080/"
        },
        "id": "JUJvwoMpcrcy",
        "outputId": "00cd8d03-8263-44ee-b296-e9b8ca8ca5e3"
      },
      "execution_count": 3,
      "outputs": [
        {
          "output_type": "stream",
          "name": "stdout",
          "text": [
            "Output 1: [[1, 0, 1], [0, 0, 0], [1, 0, 1]]\n",
            "Output 2: [[0, 0, 0, 0], [0, 4, 5, 0], [0, 3, 1, 0]]\n"
          ]
        }
      ]
    },
    {
      "cell_type": "markdown",
      "source": [
        "**Time:O(m * n)**\n",
        "\n",
        "Scanning and updating the matrix dominates → O(m * n)\n",
        "\n",
        "Checking first row/column is negligible → O(m + n)\n",
        "\n",
        "**Space:O(1)**\n",
        "\n",
        "In-place using first row/column as markers\n",
        "\n",
        "Only 2 boolean flags → O(1) extra space\n"
      ],
      "metadata": {
        "id": "T4g2t0WndzJM"
      }
    }
  ]
}