{
  "nbformat": 4,
  "nbformat_minor": 0,
  "metadata": {
    "colab": {
      "provenance": []
    },
    "kernelspec": {
      "name": "python3",
      "display_name": "Python 3"
    },
    "language_info": {
      "name": "python"
    }
  },
  "cells": [
    {
      "cell_type": "markdown",
      "source": [
        "**SOLUTION: Single Pass (Linear Scan):**\n",
        "- We traverse the array once, examining each element.\n",
        "- Current Count: When we see 1, we increment a counter current_count to track consecutive 1s.\n",
        "- When we see 0, the streak ends, so we reset current_count to 0.\n",
        "- Maximum Count: After updating current_count, we update max_count to store the largest streak seen so far."
      ],
      "metadata": {
        "id": "zrsvs-wONHmW"
      }
    },
    {
      "cell_type": "code",
      "execution_count": null,
      "metadata": {
        "id": "GNLNuWaCH9ZB"
      },
      "outputs": [],
      "source": [
        "def findMaxConsecutiveOnes(nums):\n",
        "    max_count = 0\n",
        "    current_count = 0\n",
        "\n",
        "    for num in nums:\n",
        "        if num == 1:\n",
        "            current_count += 1\n",
        "            max_count = max(max_count, current_count)\n",
        "        else:\n",
        "            current_count = 0\n",
        "\n",
        "    return max_count\n"
      ]
    },
    {
      "cell_type": "markdown",
      "source": [
        "**Time complexity: O(n)** (one pass over the array)\n",
        "\n",
        "**Space complexity: O(1)** (only two integer counters)"
      ],
      "metadata": {
        "id": "9jSDtTflNw6w"
      }
    }
  ]
}