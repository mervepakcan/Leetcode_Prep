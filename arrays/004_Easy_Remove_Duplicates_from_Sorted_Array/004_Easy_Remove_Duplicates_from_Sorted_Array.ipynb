{
  "nbformat": 4,
  "nbformat_minor": 0,
  "metadata": {
    "colab": {
      "provenance": []
    },
    "kernelspec": {
      "name": "python3",
      "display_name": "Python 3"
    },
    "language_info": {
      "name": "python"
    }
  },
  "cells": [
    {
      "cell_type": "markdown",
      "source": [
        "\n",
        "1. i = position to place the next unique number\n",
        "2. i-1 = last unique number's position\n",
        "3. j = current number we are checking\n",
        "\n",
        "Steps:\n",
        "- Start with i = 1 (first number is always unique)\n",
        "- For each number at j:\n",
        "    - If number == last unique (nums[j] == nums[i-1]):\n",
        "        → skip it (already counted)\n",
        "    - Else:\n",
        "        → place number at nums[i]\n",
        "        → increment i\n",
        "\n",
        "Outcome:\n",
        "- First i numbers in array are unique\n",
        "- i = count of unique numbers"
      ],
      "metadata": {
        "id": "WQ_Qjrgm8BpB"
      }
    },
    {
      "cell_type": "code",
      "execution_count": null,
      "metadata": {
        "id": "f5u-rYqLp3f5"
      },
      "outputs": [],
      "source": [
        "\n",
        "class Solution:\n",
        "def removeDuplicates (self, nums: List[int]) →> int:\n",
        "i = 1\n",
        "  for j in range(1, len (nums) ):\n",
        "    if nums [j] != nums [i - 1] :\n",
        "      nums［i］ = nums ［j1\n",
        "      i += 1\n",
        "  return"
      ]
    },
    {
      "cell_type": "markdown",
      "source": [
        "Time Complexity: O(n)   # traverse the array once\n",
        "\n",
        "Space Complexity: O(1)  # in-place, no extra array"
      ],
      "metadata": {
        "id": "ysfprrZwJrAy"
      }
    }
  ]
}