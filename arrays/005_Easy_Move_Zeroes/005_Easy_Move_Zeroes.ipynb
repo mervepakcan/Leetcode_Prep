{
  "nbformat": 4,
  "nbformat_minor": 0,
  "metadata": {
    "colab": {
      "provenance": []
    },
    "kernelspec": {
      "name": "python3",
      "display_name": "Python 3"
    },
    "language_info": {
      "name": "python"
    }
  },
  "cells": [
    {
      "cell_type": "markdown",
      "source": [
        "**Key Points**\n",
        "\n",
        "- Input: integer array nums\n",
        "- Task: move all zeros to the end, keep order of non-zero elements\n",
        "- Must be done in-place (no extra array allowed)\n",
        "\n",
        "**Approach:**\n",
        "- Use two pointers:\n",
        "  - right → scans the array\n",
        "  - left → position to place the next non-zero\n",
        "- If nums[right] != 0 → swap with nums[left], then move left\n"
      ],
      "metadata": {
        "id": "-R8zOb0TQ7TW"
      }
    },
    {
      "cell_type": "code",
      "execution_count": null,
      "metadata": {
        "id": "Xr9f3Xx9LdZ-"
      },
      "outputs": [],
      "source": [
        "class Solution:\n",
        "    def moveZeroes(self, nums: List[int]) -> None:\n",
        "        left = 0\n",
        "\n",
        "        for right in range(len(nums)):\n",
        "            if nums[right] != 0:\n",
        "                nums[right], nums[left] = nums[left], nums[right]\n",
        "                left += 1\n",
        "\n",
        "        return nums"
      ]
    },
    {
      "cell_type": "markdown",
      "source": [
        "Time complexity: O(n) → array scanned once  \n",
        "Space complexity: O(1) → in-place, only two pointers\n"
      ],
      "metadata": {
        "id": "eipUdIsbQfD8"
      }
    }
  ]
}