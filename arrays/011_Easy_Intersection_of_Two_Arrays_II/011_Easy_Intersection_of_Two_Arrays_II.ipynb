{
  "nbformat": 4,
  "nbformat_minor": 0,
  "metadata": {
    "colab": {
      "provenance": []
    },
    "kernelspec": {
      "name": "python3",
      "display_name": "Python 3"
    },
    "language_info": {
      "name": "python"
    }
  },
  "cells": [
    {
      "cell_type": "markdown",
      "source": [
        "**Solution 1: Hash Map**\n",
        "\n",
        "Hash Map is (also called a dictionary, map, or hash table) is a data structure that stores key–value pairs. It is useful that a hash map to count how many times each number appears in nums."
      ],
      "metadata": {
        "id": "rahW_KAwXTuZ"
      }
    },
    {
      "cell_type": "code",
      "execution_count": 1,
      "metadata": {
        "colab": {
          "base_uri": "https://localhost:8080/"
        },
        "id": "lbCncMLyXNIf",
        "outputId": "829d9047-c316-42a2-9dbf-1daf31637e22"
      },
      "outputs": [
        {
          "output_type": "stream",
          "name": "stdout",
          "text": [
            "Example 1 Output: [2, 2]\n",
            "Example 2 Output: [9, 4]\n"
          ]
        }
      ],
      "source": [
        "from collections import Counter\n",
        "from typing import List\n",
        "\n",
        "class Solution:\n",
        "    def intersect(self, nums1: List[int], nums2: List[int]) -> List[int]:\n",
        "        # Using always the smaller array for the Counter\n",
        "        if len(nums1) > len(nums2):\n",
        "            nums1, nums2 = nums2, nums1\n",
        "        # Creating hash map (Counter) to store the frequency of each number in nums1\n",
        "        counts = Counter(nums1)\n",
        "        result = [] # the result list that will store the intersection\n",
        "\n",
        "        for num in nums2:\n",
        "            if counts[num] > 0: # If the number exists in counts and the count is > 0\n",
        "                result.append(num)\n",
        "                counts[num] -= 1 # Decreasing the count in the hash map since used it once\n",
        "\n",
        "        return result\n",
        "\n",
        "\n",
        "# Testing the examples\n",
        "sol = Solution()\n",
        "\n",
        "# Example 1\n",
        "nums1 = [1,2,2,1]\n",
        "nums2 = [2,2]\n",
        "print(\"Example 1 Output:\", sol.intersect(nums1, nums2))  # Expected: [2,2]\n",
        "\n",
        "# Example 2\n",
        "nums1 = [4,9,5]\n",
        "nums2 = [9,4,9,8,4]\n",
        "print(\"Example 2 Output:\", sol.intersect(nums1, nums2))  # Expected: [4,9] or [9,4]\n"
      ]
    },
    {
      "cell_type": "markdown",
      "source": [
        "**Time Complexity:** O(n + m)  \n",
        "- n = length of the smaller array (for counting elements)  \n",
        "- m = length of the other array (for checking each element against the Counter)\n",
        "\n",
        "**Space Complexity:** O(min(n, m))  \n",
        "- Counter stores only the smaller array  \n",
        "- Result list stores the intersection"
      ],
      "metadata": {
        "id": "Kwcdr9mvfkmG"
      }
    },
    {
      "cell_type": "markdown",
      "source": [
        "**SOLUTION 2: W/ Two Pointer (Two Arrays - Forward)**\n",
        "\n",
        "What if the given array is already sorted? How would you optimize your algorithm?\n",
        "\n",
        "If nums1 and nums2 are already sorted, no need for a hash map.  \n",
        "Use the two-pointer method instead, it’s faster and simpler.\n",
        "\n",
        "Start two pointers at the beginning of nums1 and nums2.  \n",
        "Move right:  \n",
        "- nums1[i] < nums2[j] → i++  \n",
        "- nums1[i] > nums2[j] → j++  \n",
        "- nums1[i] == nums2[j] → add to result, i++, j++  \n",
        "Stop when any pointer reaches the end.\n"
      ],
      "metadata": {
        "id": "mPDV9LXEpwWC"
      }
    },
    {
      "cell_type": "code",
      "source": [
        "from typing import List\n",
        "\n",
        "class Solution:\n",
        "    def intersect(self, nums1: List[int], nums2: List[int]) -> List[int]:\n",
        "        # Sorting both arrays for two-pointer traversal\n",
        "        sortedArr1 = sorted(nums1)\n",
        "        sortedArr2 = sorted(nums2)\n",
        "\n",
        "        i = j = 0\n",
        "        result = []\n",
        "\n",
        "        # Two-pointer traversal\n",
        "        while i < len(sortedArr1) and j < len(sortedArr2):\n",
        "            if sortedArr1[i] < sortedArr2[j]:\n",
        "                i += 1 # nums1 smaller, move i\n",
        "            elif sortedArr1[i] > sortedArr2[j]:\n",
        "                j += 1 # nums2 smaller, move j\n",
        "            else:\n",
        "                result.append(sortedArr1[i])  # common element\n",
        "                i += 1\n",
        "                j += 1\n",
        "\n",
        "        return result\n"
      ],
      "metadata": {
        "id": "ppp4Ad1duEfW"
      },
      "execution_count": null,
      "outputs": []
    },
    {
      "cell_type": "markdown",
      "source": [
        "**For Two Point Method**\n",
        "**Time Complexity:**\n",
        "\n",
        "**Sorted arrays: O(n + m)** → just traverse with two pointers, no sorting needed.\n",
        "\n",
        "**Unsorted arrays: O(n log n + m log m)** → need to sort first (log n), then traverse O(n + m).\n",
        "\n",
        "**Space Complexity:**\n",
        "\n",
        "**Sorted arrays: O(min(n, m))** → only result list\n",
        "\n",
        "**Unsorted arrays: O(min(n, m))** → in-place sort + result list"
      ],
      "metadata": {
        "id": "BApPUZd-xqGL"
      }
    }
  ]
}