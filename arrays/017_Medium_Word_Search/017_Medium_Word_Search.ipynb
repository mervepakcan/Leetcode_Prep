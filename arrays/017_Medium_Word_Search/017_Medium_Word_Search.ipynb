{
  "nbformat": 4,
  "nbformat_minor": 0,
  "metadata": {
    "colab": {
      "provenance": []
    },
    "kernelspec": {
      "name": "python3",
      "display_name": "Python 3"
    },
    "language_info": {
      "name": "python"
    }
  },
  "cells": [
    {
      "cell_type": "markdown",
      "source": [
        "**SOLUTION: Depth-First Search (DFS)**\n",
        "\n",
        "The grid is traversed, and a **Depth-First Search (DFS)** is performed from each potential starting cell that matches the first character of the target word.\n",
        "\n",
        "At every step, the algorithm verifies whether the current cell corresponds to the current character in the word.\n",
        "\n",
        "If a match occurs, all **four neighboring directions (up, down, left, right**) are explored recursively.\n",
        "\n",
        "The process continues until the entire word is matched or all possibilities are exhausted.\n",
        "\n",
        "This strategy employs **backtracking**, which systematically explores possible paths and reverts previous steps when a path fails to produce a valid result.\n",
        "\n",
        "**Approach**\n",
        "1.Define a recursive function backtrack(i, j, k) where\n",
        "- (i, j) represents the current position in the grid,\n",
        "- k represents the current index of the word being matched.\n",
        "\n",
        "2.Base cases\n",
        "- If k == len(word): all characters have been matched → return True.\n",
        "- If (i, j) is outside the grid boundaries or board[i][j] != word[k]: return False.\n",
        "\n",
        "3.Mark the current cell as visited (e.g., by temporarily replacing its value).\n",
        "\n",
        "4.Recursively explore the four possible directions:\n",
        "down (i + 1, j), up (i - 1, j), right (i, j + 1), left (i, j - 1).\n",
        "\n",
        "5.If any recursive exploration returns True, propagate the success upward.\n",
        "\n",
        "6.Restore the cell’s original value (unmark it) before returning False.\n",
        "\n",
        "7.Iterate through all cells of the grid and invoke backtrack(i, j, 0).If any invocation returns True, the word exists in the grid.\n"
      ],
      "metadata": {
        "id": "DyT9gJfxMnhE"
      }
    },
    {
      "cell_type": "code",
      "execution_count": 1,
      "metadata": {
        "id": "PDUb_G-K890X"
      },
      "outputs": [],
      "source": [
        "class Solution:\n",
        "    def exist(self, board, word):\n",
        "        def backtrack(i, j, k):\n",
        "            # Check if all characters are matched\n",
        "            if k == len(word):\n",
        "                return True\n",
        "            # If the current cell is out of bounds or does not match the current character, return False\n",
        "            if i < 0 or i >= len(board) or j < 0 or j >= len(board[0]) or board[i][j] != word[k]:\n",
        "                return False\n",
        "\n",
        "             # Mark as visited\n",
        "            temp = board[i][j]\n",
        "            board[i][j] = ''\n",
        "\n",
        "            # Explore 4 directions; return True if any leads to a complete match\n",
        "\n",
        "            if backtrack(i+1, j, k+1) or backtrack(i-1, j, k+1) or backtrack(i, j+1, k+1) or backtrack(i, j-1, k+1):\n",
        "                return True\n",
        "            # Restore the original value before backtracking\n",
        "            board[i][j] = temp\n",
        "            return False\n",
        "\n",
        "        for i in range(len(board)): # Iterate over all rows\n",
        "            for j in range(len(board[0])):  # Iterate over all columns in the current row\n",
        "                # Start DFS/backtracking from the current cell\n",
        "                # '0' indicates the index of the first character in the word\n",
        "                if backtrack(i, j, 0):\n",
        "                    # Return True if word is found from this cell\n",
        "                    return True\n",
        "        # Return False if word is not found anywhere\n",
        "        return False"
      ]
    },
    {
      "cell_type": "code",
      "source": [
        "# Create an instance of the Solution class\n",
        "solution = Solution()\n",
        "\n",
        "# Example 1\n",
        "board1 = [\n",
        "    [\"A\",\"B\",\"C\",\"E\"],\n",
        "    [\"S\",\"F\",\"C\",\"S\"],\n",
        "    [\"A\",\"D\",\"E\",\"E\"]\n",
        "]\n",
        "word1 = \"ABCCED\"\n",
        "print(solution.exist(board1, word1))  # Expected output: True\n",
        "\n",
        "# Example 2\n",
        "board2 = [\n",
        "    [\"A\",\"B\",\"C\",\"E\"],\n",
        "    [\"S\",\"F\",\"C\",\"S\"],\n",
        "    [\"A\",\"D\",\"E\",\"E\"]\n",
        "]\n",
        "word2 = \"SEE\"\n",
        "print(solution.exist(board2, word2))  # Expected output: True\n",
        "\n",
        "# Example 3\n",
        "board3 = [\n",
        "    [\"A\",\"B\",\"C\",\"E\"],\n",
        "    [\"S\",\"F\",\"C\",\"S\"],\n",
        "    [\"A\",\"D\",\"E\",\"E\"]\n",
        "]\n",
        "word3 = \"ABCB\"\n",
        "print(solution.exist(board3, word3))  # Expected output: False\n"
      ],
      "metadata": {
        "colab": {
          "base_uri": "https://localhost:8080/"
        },
        "id": "PXtX2Rb-VW7G",
        "outputId": "5300e743-5cae-4973-dc10-9218ecbc1069"
      },
      "execution_count": 2,
      "outputs": [
        {
          "output_type": "stream",
          "name": "stdout",
          "text": [
            "True\n",
            "True\n",
            "False\n"
          ]
        }
      ]
    },
    {
      "cell_type": "markdown",
      "source": [
        "**Time Complexity: O(m * n * 4^l)**\n",
        "- m = number of rows, n = number of columns in the board\n",
        "- l = length of the word\n",
        "- Each cell can be a starting point (m*n), and for each character in the word,\n",
        "  there are up to 4 directions to explore recursively. Hence 4^l factor.\n",
        "\n",
        "**Space Complexity: O(l)**\n",
        "- The space is mainly used by the recursion stack during DFS.\n",
        "- In the worst case, the stack can grow up to the length of the word (l).\n",
        "- No extra board copy is needed since we mark visited cells in-place."
      ],
      "metadata": {
        "id": "53FbxpTVWp0f"
      }
    }
  ]
}