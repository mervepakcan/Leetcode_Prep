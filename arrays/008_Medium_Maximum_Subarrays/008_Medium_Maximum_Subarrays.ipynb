{
  "nbformat": 4,
  "nbformat_minor": 0,
  "metadata": {
    "colab": {
      "provenance": []
    },
    "kernelspec": {
      "name": "python3",
      "display_name": "Python 3"
    },
    "language_info": {
      "name": "python"
    }
  },
  "cells": [
    {
      "cell_type": "code",
      "execution_count": null,
      "metadata": {
        "id": "-UB0LrWrrbt0"
      },
      "outputs": [],
      "source": [
        "# First Option\n",
        "class Solution:\n",
        "    def maxSubArray(self, nums: List[int]) -> int:\n",
        "        maxSum = float('-inf') #smallest possible value,any number will be larger,float('-inf') is negative infinity\n",
        "        currentSum = 0\n",
        "\n",
        "        for num in nums:\n",
        "            currentSum += num\n",
        "\n",
        "            if currentSum > maxSum:\n",
        "                maxSum = currentSum\n",
        "\n",
        "            if currentSum < 0:\n",
        "                currentSum = 0\n",
        "\n",
        "        return maxSum\n"
      ]
    },
    {
      "cell_type": "markdown",
      "source": [
        "Time Complexity: O(n) -> going through each element of the array once\n",
        "\n",
        "Space Complexity: O(1) -> only a few variables are used, no extra space proportional to input size\n"
      ],
      "metadata": {
        "id": "7rgFMd76uuYS"
      }
    },
    {
      "cell_type": "code",
      "source": [
        "# Second Option\n",
        "class Solution:\n",
        "    def maxSubArray(self, nums: List[int]) -> int:\n",
        "        maxSum = nums[0] # also ok for negative numbers\n",
        "        currentSum = nums[0] #considering first number\n",
        "\n",
        "        for num in nums[1:]:\n",
        "            currentSum = max(num, currentSum + num) # currentSum + num -> extend the current subarray,num -> start new one, check the max\n",
        "            maxSum = max(maxSum, currentSum)\n",
        "\n",
        "        return maxSum"
      ],
      "metadata": {
        "id": "7aNzgn_5tUuF"
      },
      "execution_count": null,
      "outputs": []
    },
    {
      "cell_type": "markdown",
      "source": [
        "Time Complexity: O(n) -> traverse each element once\n",
        "\n",
        "Space Complexity: O(1) -> only a few variables used\n"
      ],
      "metadata": {
        "id": "5buRG_E5wJ64"
      }
    },
    {
      "cell_type": "code",
      "source": [
        "# Divide and Conquer: Recursive Approach by Splitting the Array\n",
        "maxSubArray(nums):\n",
        "    if len(nums) == 1: return nums[0] # Base case: if array has one element, it's the max sum\n",
        "\n",
        "    mid = len(nums)//2 # Finding the middle index\n",
        "    leftMax = maxSubArray(nums[:mid]) # Recursively find max subarray sum in left half\n",
        "    rightMax = maxSubArray(nums[mid:]) # Recursively find max subarray sum in right half\n",
        "    crossMax = maxCrossingSum(nums, mid)  # Find max subarray sum that crosses the middle\n",
        "\n",
        "    # The maximum subarray can be in left, right, or crossing the middle\n",
        "    return max(leftMax, rightMax, crossMax)\n"
      ],
      "metadata": {
        "id": "UQWWgAhGwyI3"
      },
      "execution_count": null,
      "outputs": []
    },
    {
      "cell_type": "markdown",
      "source": [
        "Time: O(n log n) -> divide array (logn) + check crossing sums O(n)\n",
        "\n",
        "Space: O(log n) -> each recursive level adds to the call stack\n"
      ],
      "metadata": {
        "id": "WzXbGd6BxPMK"
      }
    }
  ]
}