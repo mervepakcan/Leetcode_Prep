{
  "nbformat": 4,
  "nbformat_minor": 0,
  "metadata": {
    "colab": {
      "provenance": []
    },
    "kernelspec": {
      "name": "python3",
      "display_name": "Python 3"
    },
    "language_info": {
      "name": "python"
    }
  },
  "cells": [
    {
      "cell_type": "markdown",
      "source": [
        "**Solution 1: Brute Force Approach**\n",
        "\n",
        "The simplest solution is to check all possible pairs using a nested loop. If any pair sums to the target, we return their indices. Since we check every pair, this guarantees we'll find the answer if it exists."
      ],
      "metadata": {
        "id": "Xv52KJI3FwiH"
      }
    },
    {
      "cell_type": "code",
      "execution_count": 1,
      "metadata": {
        "id": "OoAy12gu-jJN"
      },
      "outputs": [],
      "source": [
        "class Solution1:\n",
        "    def twoSum(self, nums: list[int], target: int) -> list[int]:\n",
        "        # check all pairs\n",
        "        for i in range(len(nums)):\n",
        "            for j in range(i + 1, len(nums)):\n",
        "                if nums[i] + nums[j] == target:\n",
        "                    return [i, j]"
      ]
    },
    {
      "cell_type": "markdown",
      "source": [
        "**Analysis / Limitations**\n",
        "\n",
        "**Brute Force:**\n",
        "Uses two nested loops → **O(n²)** time complexity\n",
        "Requires no extra space **(O(1)** space)\n",
        "Suitable for small arrays\n",
        "\n",
        "**HashMap / Dictionary Approach:**\n",
        "Achieves **O(n)** time complexity\n",
        "Requires **O(n)** extra space\n",
        "Much faster for large arrays\n",
        "Trade-off: Uses additional memory to improve performance\n",
        "\n",
        "**Solution 2: HashMap**"
      ],
      "metadata": {
        "id": "7SH-KewqIkyh"
      }
    },
    {
      "cell_type": "code",
      "source": [
        "class Solution2:\n",
        "    def twoSum(self, nums: list[int], target: int) -> list[int]:\n",
        "        val_idx = {}  # store number as key and its index as value\n",
        "        for i, num in enumerate(nums):\n",
        "            if target - num in val_idx:\n",
        "                return [val_idx[target - num], i]\n",
        "            val_idx[num] = i\n"
      ],
      "metadata": {
        "id": "v0itSzbPMBiA"
      },
      "execution_count": 2,
      "outputs": []
    },
    {
      "cell_type": "code",
      "source": [
        "# Example 1\n",
        "nums = [2,7,11,15]\n",
        "target = 9\n",
        "sol = Solution1()\n",
        "print(sol.twoSum(nums, target))  # Output: [0, 1]\n",
        "\n",
        "# Example 2\n",
        "nums = [3,2,4]\n",
        "target = 6\n",
        "sol = Solution1()\n",
        "print(sol.twoSum(nums, target))  # Output: [1, 2]\n"
      ],
      "metadata": {
        "colab": {
          "base_uri": "https://localhost:8080/"
        },
        "id": "8sd-isJOPa_I",
        "outputId": "86e3f06c-0468-4801-9516-b6cc8be0e33f"
      },
      "execution_count": 3,
      "outputs": [
        {
          "output_type": "stream",
          "name": "stdout",
          "text": [
            "[0, 1]\n",
            "[1, 2]\n"
          ]
        }
      ]
    }
  ]
}