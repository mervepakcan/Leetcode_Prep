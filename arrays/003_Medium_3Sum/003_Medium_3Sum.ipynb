{
  "nbformat": 4,
  "nbformat_minor": 0,
  "metadata": {
    "colab": {
      "provenance": []
    },
    "kernelspec": {
      "name": "python3",
      "display_name": "Python 3"
    },
    "language_info": {
      "name": "python"
    }
  },
  "cells": [
    {
      "cell_type": "markdown",
      "source": [
        "**Method:** Two Pointers + Sort\n",
        "\n",
        "Finds all unique triplets in the array that sum up to 0.\n",
        "        "
      ],
      "metadata": {
        "id": "wgQlSf0OaeRz"
      }
    },
    {
      "cell_type": "code",
      "execution_count": null,
      "metadata": {
        "id": "xyP331mD_vmB"
      },
      "outputs": [],
      "source": [
        "from typing import List\n",
        "\n",
        "class Solution:\n",
        "    def threeSum(self, nums: List[int]) -> List[List[int]]:\n",
        "        nums.sort()   # Sort array\n",
        "        n = len(nums)\n",
        "        res = []\n",
        "\n",
        "        for i in range(n - 2):\n",
        "            # Skip duplicate\n",
        "            if i > 0 and nums[i] == nums[i - 1]:\n",
        "                continue\n",
        "\n",
        "            left, right = i + 1, n - 1\n",
        "            target = -nums[i]\n",
        "\n",
        "            while left < right:\n",
        "                s = nums[left] + nums[right]\n",
        "\n",
        "                if s == target:\n",
        "                    # Found a valid triplet\n",
        "                    res.append([nums[i], nums[left], nums[right]])\n",
        "                    left += 1\n",
        "                    right -= 1\n",
        "\n",
        "                    # Skip duplicates for left\n",
        "                    while left < right and nums[left] == nums[left - 1]:\n",
        "                        left += 1\n",
        "                    # Skip duplicates for right\n",
        "                    while left < right and nums[right] == nums[right + 1]:\n",
        "                        right -= 1\n",
        "\n",
        "                elif s < target:\n",
        "                    left += 1\n",
        "                else:\n",
        "                    right -= 1\n",
        "\n",
        "        return res"
      ]
    },
    {
      "cell_type": "markdown",
      "source": [
        "**Time Complexity:** O(n^2)\n",
        "- Outer loop runs O(n) times  \n",
        "- Two pointers scan the remaining array in O(n)  \n",
        "- Total: O(n) * O(n) = O(n²)  \n",
        "        \n",
        "**Space Complexity:** O(1)\n",
        "- Only a few variables (left, right, target, s) are used  \n",
        "- Output list is excluded; extra space is constant"
      ],
      "metadata": {
        "id": "tDOL-aT_a09l"
      }
    }
  ]
}