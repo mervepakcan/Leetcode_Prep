{
  "nbformat": 4,
  "nbformat_minor": 0,
  "metadata": {
    "colab": {
      "provenance": []
    },
    "kernelspec": {
      "name": "python3",
      "display_name": "Python 3"
    },
    "language_info": {
      "name": "python"
    }
  },
  "cells": [
    {
      "cell_type": "code",
      "execution_count": 2,
      "metadata": {
        "id": "ft_nLP_fGOk2"
      },
      "outputs": [],
      "source": [
        "from typing import List\n",
        "\n",
        "class Solution:\n",
        "    def maxProfit(self, prices: List[int]) -> int:\n",
        "        buy_price = prices[0]  # cheapest so far\n",
        "        profit = 0             # max profit\n",
        "\n",
        "        for p in prices[1:]:   # start from day 2\n",
        "            if p < buy_price:\n",
        "                buy_price = p  # update cheapest\n",
        "            profit = max(profit, p - buy_price)  # update max profit\n",
        "\n",
        "        return profit\n",
        "\n"
      ]
    },
    {
      "cell_type": "code",
      "source": [
        "# Example tests\n",
        "solution = Solution()\n",
        "\n",
        "prices1 = [7,1,5,3,6,4]\n",
        "print(solution.maxProfit(prices1))\n",
        "\n",
        "\n",
        "prices2 = [7,6,4,3,1]\n",
        "print(solution.maxProfit(prices2))"
      ],
      "metadata": {
        "colab": {
          "base_uri": "https://localhost:8080/"
        },
        "id": "C69H2l93L1w5",
        "outputId": "1d5b5c33-ba8f-4572-b2f6-3adf6fd37fba"
      },
      "execution_count": 3,
      "outputs": [
        {
          "output_type": "stream",
          "name": "stdout",
          "text": [
            "5\n",
            "0\n"
          ]
        }
      ]
    }
  ]
}