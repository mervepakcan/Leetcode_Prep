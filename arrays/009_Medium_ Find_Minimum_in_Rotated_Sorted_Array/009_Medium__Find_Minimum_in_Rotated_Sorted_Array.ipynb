{
  "nbformat": 4,
  "nbformat_minor": 0,
  "metadata": {
    "colab": {
      "provenance": []
    },
    "kernelspec": {
      "name": "python3",
      "display_name": "Python 3"
    },
    "language_info": {
      "name": "python"
    }
  },
  "cells": [
    {
      "cell_type": "markdown",
      "source": [
        "\n",
        "Solution: W/ Binary Search\n",
        "\n",
        "**Key Logic Notes:**\n",
        "- Minimum is at the rotation point (smallest element in rotated sorted array)\n",
        "- If nums[left] < nums[right] → array is fully sorted, min = nums[left]\n",
        "- Compare nums[mid] with nums[right]:\n",
        "- nums[mid] < nums[right] → min is at mid or to the left → right = mid\n",
        "- nums[mid] >= nums[right] → min is to the right of mid → left = mid + 1\n",
        "- Loop ends when left == right → nums[left] is the minimum\n",
        "- **Time Complexity: O(log n)** → each step halves the search range\n",
        "- **Space Complexity: O(1)** → only a few pointers (left, right, mid) are used\n"
      ],
      "metadata": {
        "id": "2tbFnxfly3fF"
      }
    },
    {
      "cell_type": "code",
      "execution_count": null,
      "metadata": {
        "id": "s82uoHiMyfh0"
      },
      "outputs": [],
      "source": [
        "class Solution:\n",
        "    def findMin(self, nums: List[int]) -> int:\n",
        "        # left → start of the array, right → end of the array\n",
        "        left, right = 0, len(nums) - 1\n",
        "\n",
        "        # Binary search loop, continue until left and right meet\n",
        "        while left < right:\n",
        "            mid = left + (right - left) // 2  # Finding the middle index, this formul avoid overflow in other language\n",
        "            if nums[mid] < nums[right]: # If middle is smaller than right, minimum is at mid or to the left\n",
        "                right = mid # move right to mid\n",
        "            else: # If middle is greater or equal to right, minimum is to the right of mid\n",
        "                left = mid + 1 # move left to mid + 1\n",
        "\n",
        "        return nums[left]"
      ]
    }
  ]
}