{
  "nbformat": 4,
  "nbformat_minor": 0,
  "metadata": {
    "colab": {
      "provenance": []
    },
    "kernelspec": {
      "name": "python3",
      "display_name": "Python 3"
    },
    "language_info": {
      "name": "python"
    }
  },
  "cells": [
    {
      "cell_type": "markdown",
      "source": [
        "**SOLUTION 1:** Using Extra Array (Rotation by Index Formula)\n",
        "\n",
        "We use a new array and place each element at its new rotated position using (i + k) % n.For each element, (i + k) % n calculates its new index after rotating k steps to the right. The modulo % n wraps around the array, elements that go past the end start from the beginning."
      ],
      "metadata": {
        "id": "_hPxB5A88h3D"
      }
    },
    {
      "cell_type": "code",
      "execution_count": null,
      "metadata": {
        "id": "vi0EY2ge8bP1"
      },
      "outputs": [],
      "source": [
        "class Solution:\n",
        "    def rotate(self, nums: List[int], k: int) -> None:\n",
        "        n = len(nums) # Length of the array\n",
        "        k = k % n # If k is larger than array length, getting remainder to avoid extra rotations\n",
        "        rotated = [0] * n # Temporary array for rotated result\n",
        "\n",
        "        # Placing each element in its new position\n",
        "        for i in range(n):\n",
        "            rotated[(i + k) % n] = nums[i]\n",
        "\n",
        "        # Copying rotated array back to original array (in-place)\n",
        "        for i in range(n):\n",
        "            nums[i] = rotated[i]"
      ]
    },
    {
      "cell_type": "markdown",
      "source": [
        "**Time Complexity: O(n)**\n",
        "Iterate all n elements to place in new array and copy back → **O(n)**\n",
        "\n",
        "**Space Complexity:** O(n)\n",
        "Extra array of size n (rotated) is used; pointers use O(1) →** total O(n)**"
      ],
      "metadata": {
        "id": "KJe4yXlLADuV"
      }
    },
    {
      "cell_type": "markdown",
      "source": [
        "**SOLUTION 2:**\n",
        "\n",
        "Split the array into two parts: the last k elements and the first n-k elements.\n",
        "Then we swap their positions using slicing to rotate the array in-place."
      ],
      "metadata": {
        "id": "wsvBXYhMDau0"
      }
    },
    {
      "cell_type": "code",
      "source": [
        "class Solution:\n",
        "    def rotate(self, nums: List[int], k: int) -> None:\n",
        "        k = k % len(nums)      # Handle k > n\n",
        "        if k != 0:\n",
        "            nums[:k], nums[k:] = nums[-k:], nums[:-k]  # Rotate array: last k elements come first, rest follow"
      ],
      "metadata": {
        "id": "pH69EAYPGV6h"
      },
      "execution_count": null,
      "outputs": []
    },
    {
      "cell_type": "markdown",
      "source": [
        "**Time Complexity: O(n)**\n",
        "Processing all n elements once when slicing and reassigning.\n",
        "\n",
        "**Space Complexity: O(n**)\n",
        "Slicing creates new lists (nums[-k:], nums[:-k]), requiring extra space proportional to n."
      ],
      "metadata": {
        "id": "f28fQtdGG8kN"
      }
    },
    {
      "cell_type": "markdown",
      "source": [
        "**SOLUTION 3: 3 Reverse Method (In-Place, O(1) Space)**\n",
        "- Reverse the entire array → puts the last k elements in front, but reversed.\n",
        "- Reverse the first k elements → restores their correct order.\n",
        "- Reverse the remaining n-k elements → restores their correct order."
      ],
      "metadata": {
        "id": "UXqnW0Q9LXbj"
      }
    },
    {
      "cell_type": "code",
      "source": [
        "class Solution:\n",
        "    def rotate(self, nums: List[int], k: int) -> None:\n",
        "        k %= len(nums) # Limit k within array length\n",
        "\n",
        "        # Helper function to reverse elements in nums from index left to right\n",
        "        def reverse(left, right):\n",
        "            while left < right:\n",
        "                nums[left], nums[right] = nums[right], nums[left]\n",
        "                left += 1\n",
        "                right -= 1\n",
        "\n",
        "        reverse(0, len(nums) - 1)  # Step 1: reverse entire array\n",
        "        reverse(0, k - 1)           # Step 2: reverse first k elements\n",
        "        reverse(k, len(nums) - 1)   # Step 3: reverse remaining n-k elements\n"
      ],
      "metadata": {
        "id": "LhOekhfkMo27"
      },
      "execution_count": null,
      "outputs": []
    },
    {
      "cell_type": "markdown",
      "source": [
        "**Time Complexity: O(n)**\n",
        "Touching each element at most 3 times (3 reverses) → **O(n)**\n",
        "\n",
        "**Space Complexity: O(1)**\n",
        "All operations are done in-place, no extra array used → **O(1)**\n",
        "\n"
      ],
      "metadata": {
        "id": "PDtsdfiAPEzt"
      }
    }
  ]
}