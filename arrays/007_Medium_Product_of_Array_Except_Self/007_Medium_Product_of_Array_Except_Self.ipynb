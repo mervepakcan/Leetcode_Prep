{
  "nbformat": 4,
  "nbformat_minor": 0,
  "metadata": {
    "colab": {
      "provenance": []
    },
    "kernelspec": {
      "name": "python3",
      "display_name": "Python 3"
    },
    "language_info": {
      "name": "python"
    }
  },
  "cells": [
    {
      "cell_type": "markdown",
      "source": [
        "Solution: Looping the input array twice\n",
        "\n",
        "**Logic:**\n",
        "\n",
        "**Left products:** go left → right\n",
        "\n",
        "Each output[i] = product of all numbers before index i\n",
        "\n",
        "**Right products:** go right → left\n",
        "\n",
        "Multiply output[i] by product of all numbers after index i\n",
        "\n",
        "Start with output = [1]*n, left = right = 1.\n",
        "\n",
        "At the end, output[i] = product of all numbers **except nums[i]`\n",
        "\n",
        "for i in range(len(nums) - 1, -1, -1): Start from the end, stop at 0 (inclusive), and step backward by 1.\n",
        "\n",
        "\n",
        "**NOTE:** The reason of using this logic:\n",
        "\n",
        "**# We use left-to-right and right-to-left passes because we cannot use division.**\n",
        "\n",
        "Left pass accumulates products of numbers before each index.\n",
        "\n",
        "Right pass accumulates products of numbers after each index.\n",
        "\n",
        "Multiplying them gives the product of all numbers except self.\n"
      ],
      "metadata": {
        "id": "gzDGzTelfyml"
      }
    },
    {
      "cell_type": "code",
      "execution_count": null,
      "metadata": {
        "id": "G9fBRyFFZw6p"
      },
      "outputs": [],
      "source": [
        "from typing import List\n",
        "class Solution:\n",
        "    def productExceptSelf(self, nums: List[int]) -> List[int]:\n",
        "        output = [1] * len(nums) # result list, start with 1s (neutral for multiplication)\n",
        "\n",
        "\n",
        "        #left products\n",
        "        left = 1\n",
        "        for i in range(len(nums)):\n",
        "            output[i] *= left\n",
        "            left *= nums[i]\n",
        "\n",
        "        #right products\n",
        "        right = 1\n",
        "        for i in range(len(nums) - 1, -1, -1):\n",
        "            output[i] *= right\n",
        "            right *= nums[i]\n",
        "\n",
        "        return output"
      ]
    },
    {
      "cell_type": "code",
      "source": [
        "# ----- Test examples -----\n",
        "solution = Solution()\n",
        "\n",
        "# Example 1\n",
        "nums1 = [1, 2, 3, 4]\n",
        "output1 = solution.productExceptSelf(nums1)\n",
        "print(\"Example 1 Input:\", nums1)\n",
        "print(\"Example 1 Output:\", output1)  # Expected: [24,12,8,6]\n",
        "\n",
        "# Example 2\n",
        "nums2 = [-1, 1, 0, -3, 3]\n",
        "output2 = solution.productExceptSelf(nums2)\n",
        "print(\"Example 2 Input:\", nums2)\n",
        "print(\"Example 2 Output:\", output2)  # Expected: [0,0,9,0,0]"
      ],
      "metadata": {
        "colab": {
          "base_uri": "https://localhost:8080/"
        },
        "id": "Oj7V-YGfdNTT",
        "outputId": "4ab31f47-6170-401a-97d8-7e4478ec6d86"
      },
      "execution_count": null,
      "outputs": [
        {
          "output_type": "stream",
          "name": "stdout",
          "text": [
            "Example 1 Input: [1, 2, 3, 4]\n",
            "Example 1 Output: [24, 12, 8, 6]\n",
            "Example 2 Input: [-1, 1, 0, -3, 3]\n",
            "Example 2 Output: [0, 0, 9, 0, 0]\n"
          ]
        }
      ]
    },
    {
      "cell_type": "markdown",
      "source": [
        "Time: O(n) → traverse array twice\n",
        "\n",
        "Space: O(1) → only left & right vars, output ignored\n",
        "\n",
        "linear time, constant extra space, no division"
      ],
      "metadata": {
        "id": "h4lD0UxgfDYQ"
      }
    },
    {
      "cell_type": "markdown",
      "source": [
        "To understand difficult part of problem:\n",
        "\n",
        "**Step 1: Left products**\n",
        "\n",
        "nums = [1, 2, 3, 4]\n",
        "output = [1, 1, 1, 1]\n",
        "left = 1\n",
        "\n",
        "Go left to right:\n",
        "\n",
        "**i = 0** → nums[0] = 1\n",
        "\n",
        "Numbers before = none → product = 1\n",
        "\n",
        "output[0] *= left → 1 × 1 = 1\n",
        "\n",
        "Update left *= nums[0] → left = 1 × 1 = 1\n",
        "\n",
        "**i = 1**→ nums[1] = 2\n",
        "\n",
        "Numbers before = [1] → product = 1\n",
        "\n",
        "output[1] *= left → 1 × 1 = 1\n",
        "\n",
        "Update left *= nums[1] → left = 1 × 2 = 2\n",
        "\n",
        "**i = 2** → nums[2] = 3\n",
        "\n",
        "Numbers before = [1, 2] → product = 2\n",
        "\n",
        "output[2] *= left → 1 × 2 = 2\n",
        "\n",
        "Update left *= nums[2] → left = 2 × 3 = 6\n",
        "\n",
        "**i = 3** → nums[3] = 4\n",
        "\n",
        "Numbers before = [1,2,3] → product = 6\n",
        "\n",
        "output[3] *= left → 1 × 6 = 6\n",
        "\n",
        "Update left *= nums[3] → left = 6 × 4 = 24\n",
        "\n",
        "After this loop:\n",
        "\n",
        "output = [1, 1, 2, 6]\n",
        "\n",
        "**Step 2: Right products**\n",
        "\n",
        "Now we go right to left with right = 1:\n",
        "\n",
        "**i = 3** → nums[3] = 4\n",
        "\n",
        "Numbers after = none → product = 1\n",
        "\n",
        "output[3] *= right → 6 × 1 = 6\n",
        "\n",
        "Update right *= nums[3] → right = 1 × 4 = 4\n",
        "\n",
        "**i = 2** → nums[2] = 3\n",
        "\n",
        "Numbers after = [4] → product = 4\n",
        "\n",
        "output[2] *= right → 2 × 4 = 8\n",
        "\n",
        "Update right *= nums[2] → right = 4 × 3 = 12\n",
        "\n",
        "**i = 1** → nums[1] = 2\n",
        "\n",
        "Numbers after = [3,4] → product = 12\n",
        "\n",
        "output[1] *= right → 1 × 12 = 12\n",
        "\n",
        "Update right *= nums[1] → right = 12 × 2 = 24\n",
        "\n",
        "**i = 0**→ nums[0] = 1\n",
        "\n",
        "Numbers after = [2,3,4] → product = 24\n",
        "\n",
        "output[0] *= right → 1 × 24 = 24\n",
        "\n",
        "Update right *= nums[0] → right = 24 × 1 = 24\n",
        "\n",
        "Final output:\n",
        "\n",
        "output = [24, 12, 8, 6]"
      ],
      "metadata": {
        "id": "EyPOobFdg76-"
      }
    }
  ]
}