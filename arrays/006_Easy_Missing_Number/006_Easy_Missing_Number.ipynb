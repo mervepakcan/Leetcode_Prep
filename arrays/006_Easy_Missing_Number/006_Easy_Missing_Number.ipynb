{
  "nbformat": 4,
  "nbformat_minor": 0,
  "metadata": {
    "colab": {
      "provenance": []
    },
    "kernelspec": {
      "name": "python3",
      "display_name": "Python 3"
    },
    "language_info": {
      "name": "python"
    }
  },
  "cells": [
    {
      "cell_type": "markdown",
      "source": [
        "**Solution 1: XOR**\n",
        "\n",
        "XOR = “exclusive OR” → 1 only if the bits are different, 0 if they are the same\n",
        "0 ^ 0 = 0\n",
        "1 ^ 1 = 0\n",
        "0 ^ 1 = 1\n",
        "1 ^ 0 = 1\n",
        "Key Properties:\n",
        "x ^ 0 = x → XOR with 0 does not change the number\n",
        "x ^ x = 0 → XOR with itself becomes 0\n",
        "XOR is commutative: a ^ b ^ c = c ^ b ^ a\n",
        "\n",
        "You can calculate binary calculation but only like 1^2(01^10)=11 (1 x 2 power of 1 +1 x 2 power of 0 =3 (result)\n",
        "\n"
      ],
      "metadata": {
        "id": "tPXaAmiQ_BgK"
      }
    },
    {
      "cell_type": "code",
      "execution_count": 3,
      "metadata": {
        "id": "mGr8rTnrTljQ"
      },
      "outputs": [],
      "source": [
        "from typing import List\n",
        "class Solution:\n",
        "    def missingNumber(self, nums: List[int]) -> int:\n",
        "        n = len(nums)\n",
        "        ans = 0\n",
        "        # XOR all numbers from 1 to n\n",
        "        for i in range(1, n + 1):\n",
        "            ans ^= i # XOR range numbers\n",
        "        # XOR all numbers in nums\n",
        "        for num in nums:\n",
        "            ans ^= num  # XOR given array numbers\n",
        "        return ans\n"
      ]
    },
    {
      "cell_type": "markdown",
      "source": [
        "Time complexity: O(n) →loop through all numbers once, so the runtime grows linearly with the size of the array.\n",
        "\n",
        "Space complexity: O(1) → only use a single variable (ans), no extra memory that grows with input size."
      ],
      "metadata": {
        "id": "kAmSXjgTLwvP"
      }
    },
    {
      "cell_type": "code",
      "source": [
        "# Test examples\n",
        "if __name__ == \"__main__\":\n",
        "    sol = Solution()\n",
        "\n",
        "    # Example 1\n",
        "    nums1 = [3, 0, 1]\n",
        "    print(\"Missing number in\", nums1, \"is\", sol.missingNumber(nums1))\n",
        "\n",
        "    # Example 2\n",
        "    nums2 = [0, 1]\n",
        "    print(\"Missing number in\", nums2, \"is\", sol.missingNumber(nums2))\n",
        "\n",
        "    # Example 3\n",
        "    nums3 = [9,6,4,2,3,5,7,0,1]\n",
        "    print(\"Missing number in\", nums3, \"is\", sol.missingNumber(nums3))"
      ],
      "metadata": {
        "colab": {
          "base_uri": "https://localhost:8080/"
        },
        "id": "mpdrSO9iMbHc",
        "outputId": "7320c378-3547-4d1c-e761-63938338b372"
      },
      "execution_count": 4,
      "outputs": [
        {
          "output_type": "stream",
          "name": "stdout",
          "text": [
            "Missing number in [3, 0, 1] is 2\n",
            "Missing number in [0, 1] is 2\n",
            "Missing number in [9, 6, 4, 2, 3, 5, 7, 0, 1] is 8\n"
          ]
        }
      ]
    },
    {
      "cell_type": "markdown",
      "source": [
        "**Solution 2: Index Difference**\n",
        "Idea: Compare each number with its index.\n",
        "\n",
        "Normally, numbers should match their indices: 0, 1, 2, …, n-1\n",
        "\n",
        "Missing number causes a mismatch between index and number.\n",
        "\n",
        "Algorithm:\n",
        "\n",
        "Initialize res = len(nums)\n",
        "\n",
        "For each index i, do res += i - nums[i]\n",
        "\n",
        "After the loop, res is the missing number\n",
        "\n",
        "Time complexity: O(n) → iterate once through the array\n",
        "\n",
        "Space complexity: O(1) → only a single variable res is used"
      ],
      "metadata": {
        "id": "gA--yJkpOvqc"
      }
    },
    {
      "cell_type": "code",
      "source": [
        "class Solution:\n",
        "    def missingNumber(self, nums: List[int]) -> int:\n",
        "        res = len(nums)\n",
        "\n",
        "        for i in range(len(nums)):\n",
        "            res += i - nums[i]\n",
        "\n",
        "        return res\n",
        "# Test\n",
        "sol = Solution()\n",
        "print(sol.missingNumber([3,0,1]))  # Output: 2"
      ],
      "metadata": {
        "colab": {
          "base_uri": "https://localhost:8080/"
        },
        "id": "NRAaT_-JO3o-",
        "outputId": "208fb089-0efa-44e6-ea49-2494d6852e86"
      },
      "execution_count": 5,
      "outputs": [
        {
          "output_type": "stream",
          "name": "stdout",
          "text": [
            "2\n"
          ]
        }
      ]
    },
    {
      "cell_type": "markdown",
      "source": [
        "**Solution 3: Sum Approach**\n",
        "\n",
        "Missing number = (0 + 1 + ... + n) - sum(nums)\n",
        "\n",
        "Time complexity: O(n) → we iterate through nums to calculate the sum\n",
        "\n",
        "Space complexity: O(1) → no extra array or memory is used"
      ],
      "metadata": {
        "id": "95-gduBSREJL"
      }
    },
    {
      "cell_type": "code",
      "source": [
        "class Solution:\n",
        "    def missingNumber(self, nums: List[int]) -> int:\n",
        "        n = len(nums)\n",
        "        total = n * (n + 1) // 2\n",
        "        return total - sum(nums)\n"
      ],
      "metadata": {
        "id": "bhz-gWksRI5S"
      },
      "execution_count": null,
      "outputs": []
    }
  ]
}