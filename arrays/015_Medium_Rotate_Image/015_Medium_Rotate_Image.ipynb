{
  "nbformat": 4,
  "nbformat_minor": 0,
  "metadata": {
    "colab": {
      "provenance": []
    },
    "kernelspec": {
      "name": "python3",
      "display_name": "Python 3"
    },
    "language_info": {
      "name": "python"
    }
  },
  "cells": [
    {
      "cell_type": "markdown",
      "source": [
        "SOLUTION 1: Vertical Reversal + Transpose\n",
        "To **rotate a matrix 90 degrees clockwise**:\n",
        "\n",
        "**1. Flip it upside down (Vertical Reversal)** -> swap the top and bottom rows\n",
        "\n",
        "**2. Swap rows and columns (Transpose)** -> turn rows into columns\n",
        "These two steps together rotate the matrix in place (without creating a new one).\n",
        "\n",
        "\n",
        "The algorithm involves two main loops:\n",
        "**Vertical Reversal Loop**\n",
        "**Transpose Loop**\n",
        "\n",
        "-Middle row stays same if n is odd; otherwise, all rows swap."
      ],
      "metadata": {
        "id": "WAyzpKr5hUx5"
      }
    },
    {
      "cell_type": "code",
      "execution_count": 2,
      "metadata": {
        "id": "Ox_6EeKsdzNL"
      },
      "outputs": [],
      "source": [
        "\n",
        "from typing import List\n",
        "class Solution:\n",
        "    def rotate(self, matrix: List[List[int]]) -> None:\n",
        "        edge_length = len(matrix)  # Get the number of rows in the square matrix\n",
        "\n",
        "\n",
        "        top = 0 # Pointer to the first (top) row\n",
        "        bottom = edge_length - 1  # Pointer to the last (bottom) row\n",
        "\n",
        "        # Keep swapping rows until the top and bottom pointers meet in the middle\n",
        "        while top < bottom:\n",
        "             # Go through each column of the current top and bottom rows\n",
        "            for col in range(edge_length):\n",
        "                # Store the current element from the top row temporarily\n",
        "                temp = matrix[top][col]\n",
        "                # Move the element from the bottom row to the top row\n",
        "                matrix[top][col] = matrix[bottom][col]\n",
        "                # Move the stored top element down to the bottom row\n",
        "                matrix[bottom][col] = temp\n",
        "            top += 1 # Move the top pointer down one row\n",
        "            bottom -= 1 # Move the bottom pointer up one row\n",
        "\n",
        "\n",
        "        # Iterate upper triangle only to swap each pair once, not lower triangle\n",
        "        for row in range(edge_length):  # Go through each row\n",
        "            for col in range(row+1, edge_length):# Only columns above the diagonal, (diagonal = row, row),row+1 → start from the column right to the diagona\n",
        "                temp = matrix[row][col] # Save current element (col already starts from row+1, no need to add +1 here)\n",
        "                matrix[row][col] = matrix[col][row]  # Put its symmetric element here\n",
        "                matrix[col][row] = temp # Move saved element to symmetric position\n",
        "\n",
        "        return matrix"
      ]
    },
    {
      "cell_type": "markdown",
      "source": [
        "Matrix size = N x N, total N^2 elements\n",
        "1. Vertical flip: visit each cell once → O(N^2)\n",
        "2. Transpose: visit upper triangle → ~N^2/2 elements → O(N^2)\n",
        "\n",
        "**Time Complexity:** each element processed at least once → **O(N^2)**\n",
        "\n",
        "**Space Complexity: O(1)** -> only a single temp variable is used, no extra matrix\n"
      ],
      "metadata": {
        "id": "U9HnxU9Q2ZEg"
      }
    },
    {
      "cell_type": "code",
      "source": [
        "# Test 1\n",
        "matrix1 = [[1,2,3],[4,5,6],[7,8,9]]\n",
        "sol = Solution()\n",
        "print(sol.rotate(matrix1))\n",
        "# Expected output: [[7,4,1],[8,5,2],[9,6,3]]\n",
        "\n",
        "# Test 2\n",
        "matrix2 = [[5,1,9,11],[2,4,8,10],[13,3,6,7],[15,14,12,16]]\n",
        "sol = Solution()\n",
        "print(sol.rotate(matrix2))\n",
        "# Expected output: [[15,13,2,5],[14,3,4,1],[12,6,8,9],[16,7,10,11]]"
      ],
      "metadata": {
        "colab": {
          "base_uri": "https://localhost:8080/"
        },
        "id": "9dlhF4kyAkZq",
        "outputId": "58653783-9c5b-4c5d-a90d-9f1cd14d7f29"
      },
      "execution_count": 3,
      "outputs": [
        {
          "output_type": "stream",
          "name": "stdout",
          "text": [
            "[[7, 4, 1], [8, 5, 2], [9, 6, 3]]\n",
            "[[15, 13, 2, 5], [14, 3, 4, 1], [12, 6, 8, 9], [16, 7, 10, 11]]\n"
          ]
        }
      ]
    },
    {
      "cell_type": "markdown",
      "source": [
        "**SOLUTION 2: Transpose + Horizantal Flip**"
      ],
      "metadata": {
        "id": "FFm3iZ7G6qp6"
      }
    },
    {
      "cell_type": "code",
      "source": [
        "def rotate(matrix):\n",
        "  n = len(matrix)  # Matrix size (N x N)\n",
        "\n",
        "  # 1. Transpose along main diagonal\n",
        "  for i in range(n):\n",
        "    for j in range(i + 1, n):\n",
        "        matrix[i][j], matrix[j][i] = matrix[j][i], matrix[i][j]\n",
        "        # Swap (i,j) with (j,i) → moves elements to transpose\n",
        "\n",
        "  # 2. Reflection (reverse each row)\n",
        "  # Horizontal flip: swap left-right in each row (middle column stays if N is odd)\n",
        "  for i in range(n):\n",
        "    for j in range(n // 2): # Swap left half with right half (middle stays if N is odd, like n=3, 3/2=1 so 1 left, 1 right changes medium remain)\n",
        "        matrix[i][j], matrix[i][n - j - 1] = matrix[i][n - j - 1], matrix[i][j]\n",
        "        # Swap element with its symmetric on the right (n-j-1) → e.g., [a,b,c,d,e] becomes [e,d,c,b,a] n=5, j=0 5-0-1=4 and so on"
      ],
      "metadata": {
        "id": "FOFrLBgg6qDv"
      },
      "execution_count": 6,
      "outputs": []
    },
    {
      "cell_type": "markdown",
      "source": [
        "\n",
        "**Time Complexity: O(N^2)** → each element processed at least once\n",
        "\n",
        "**Space Complexity: O(1)** → only temp swap, no extra matrix\n"
      ],
      "metadata": {
        "id": "awSdxErB7c81"
      }
    },
    {
      "cell_type": "code",
      "source": [
        "# Test\n",
        "matrix1 = [[1,2,3],[4,5,6],[7,8,9]]\n",
        "rotate(matrix1)\n",
        "print(matrix1)\n",
        "# Output: [[7,4,1],[8,5,2],[9,6,3]]\n",
        "\n",
        "# Test 2 (4x4)\n",
        "matrix2 = [[5,1,9,11],[2,4,8,10],[13,3,6,7],[15,14,12,16]]\n",
        "rotate(matrix2)\n",
        "print(matrix2)\n",
        "# Output: [[15,13,2,5],[14,3,4,1],[12,6,8,9],[16,7,10,11]]"
      ],
      "metadata": {
        "colab": {
          "base_uri": "https://localhost:8080/"
        },
        "id": "7yPa_-J6_3be",
        "outputId": "10338939-4942-4383-8c37-2ed773050a7d"
      },
      "execution_count": 8,
      "outputs": [
        {
          "output_type": "stream",
          "name": "stdout",
          "text": [
            "[[7, 4, 1], [8, 5, 2], [9, 6, 3]]\n",
            "[[15, 13, 2, 5], [14, 3, 4, 1], [12, 6, 8, 9], [16, 7, 10, 11]]\n"
          ]
        }
      ]
    }
  ]
}