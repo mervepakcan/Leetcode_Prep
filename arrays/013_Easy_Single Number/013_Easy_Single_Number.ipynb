{
  "nbformat": 4,
  "nbformat_minor": 0,
  "metadata": {
    "colab": {
      "provenance": []
    },
    "kernelspec": {
      "name": "python3",
      "display_name": "Python 3"
    },
    "language_info": {
      "name": "python"
    }
  },
  "cells": [
    {
      "cell_type": "code",
      "execution_count": 2,
      "metadata": {
        "id": "0GqCHtRtR6Vm"
      },
      "outputs": [],
      "source": [
        "from typing import List\n",
        "class Solution:\n",
        "    def singleNumber(self, nums: List[int]) -> int:\n",
        "        # Initialize result variable to 0\n",
        "        # XOR with 0 always returns the number itself (0 ^ x = x)\n",
        "        res = 0\n",
        "\n",
        "        # Iterate through each number in the list\n",
        "        for n in nums:\n",
        "            # XOR the current number with the result\n",
        "            # Since a ^ a = 0 and a ^ 0 = a,\n",
        "            # all duplicate numbers will cancel out to 0,\n",
        "            # and only the single (unique) number will remain\n",
        "            res ^= n\n",
        "\n",
        "        # Return the number that appeared only once\n",
        "        return res\n",
        "\n"
      ]
    },
    {
      "cell_type": "markdown",
      "source": [
        "**SOLUTION: XOR**\n",
        "\n",
        "The key idea behind using XOR (^) is that it perfectly cancels out pairs of equal numbers while keeping the unique one.\n",
        "\n",
        "The four essential XOR properties:\n",
        "\n",
        "Same numbers XOR to zero: a ^ a = 0\n",
        "\n",
        "XOR with zero returns original: a ^ 0 = a\n",
        "\n",
        "Commutative: a ^ b = b ^ a\n",
        "\n",
        "Associative: (a ^ b) ^ c = a ^ (b ^ c)\n",
        "\n",
        "Using these properties, if we XOR all numbers in the array:\n",
        "\n",
        "- All duplicate pairs will cancel out (n ^ n = 0).\n",
        "- The single number (which appears once) will remain, because 0 ^ x = x.\n"
      ],
      "metadata": {
        "id": "pCbpux33cUso"
      }
    },
    {
      "cell_type": "markdown",
      "source": [
        "**Time Complexity: O(n)**\n",
        "Traversing the array once, performing a constant-time XOR operation for each element.\n",
        "\n",
        "**Space Complexity: O(1)**\n",
        "Using only a single variable (res) regardless of the input size, so the extra memory used is constant."
      ],
      "metadata": {
        "id": "ZJXAg-C-dOLp"
      }
    },
    {
      "cell_type": "code",
      "source": [
        "# Testing Code (Examples from the problem)\n",
        "\n",
        "\n",
        "# Example 1\n",
        "nums1 = [2, 2, 1]\n",
        "print(\"Example 1 Output:\", Solution().singleNumber(nums1))  # Expected: 1\n",
        "\n",
        "# Example 2\n",
        "nums2 = [4, 1, 2, 1, 2]\n",
        "print(\"Example 2 Output:\", Solution().singleNumber(nums2))  # Expected: 4\n",
        "\n",
        "# Example 3\n",
        "nums3 = [1]\n",
        "print(\"Example 3 Output:\", Solution().singleNumber(nums3))  # Expected: 1"
      ],
      "metadata": {
        "colab": {
          "base_uri": "https://localhost:8080/"
        },
        "id": "zY4GRlRleE5s",
        "outputId": "465cb67c-19c7-4838-ec45-9e1b07d3e64d"
      },
      "execution_count": 3,
      "outputs": [
        {
          "output_type": "stream",
          "name": "stdout",
          "text": [
            "Example 1 Output: 1\n",
            "Example 2 Output: 4\n",
            "Example 3 Output: 1\n"
          ]
        }
      ]
    }
  ]
}