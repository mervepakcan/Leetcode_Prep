{
  "nbformat": 4,
  "nbformat_minor": 0,
  "metadata": {
    "colab": {
      "provenance": []
    },
    "kernelspec": {
      "name": "python3",
      "display_name": "Python 3"
    },
    "language_info": {
      "name": "python"
    }
  },
  "cells": [
    {
      "cell_type": "markdown",
      "source": [
        "Solution w/ Two Pointer\n",
        "\n",
        "The water container area is defined as\n",
        "\n",
        "Area = width ×height\n",
        "\n",
        "Area =(j−i) × min(height[i], height[j])\n",
        "\n",
        "Each zero-width vertical line represents the elements of height array."
      ],
      "metadata": {
        "id": "San7Pi7qFJDM"
      }
    },
    {
      "cell_type": "code",
      "execution_count": 1,
      "metadata": {
        "id": "1gZ2MIH5Elfh"
      },
      "outputs": [],
      "source": [
        "class Solution:\n",
        "    def maxArea(self, height: list[int]) -> int:\n",
        "        i = 0                        # Left pointer starts at the beginning\n",
        "        j = len(height) - 1          # Right pointer starts at the end\n",
        "        res = 0                      # Variable to store the maximum area found\n",
        "\n",
        "        # Loop until the two pointers meet\n",
        "        while i < j:\n",
        "            # width = distance between pointers (j - i)\n",
        "            # height = the shorter of the two lines (min(height[i], height[j]))\n",
        "            res = max(res, (j - i) * min(height[i], height[j]))\n",
        "\n",
        "            # Move the pointer that has the shorter line, moving the longer line not help — the area is limited by the shorter line\n",
        "            if height[i] < height[j]:\n",
        "                i += 1                # Move the left pointer right to try a taller line\n",
        "            else:\n",
        "                j -= 1                # Move the right pointer left to try a taller line\n",
        "\n",
        "        # Return the maximum area found\n",
        "        return res\n",
        "\n"
      ]
    },
    {
      "cell_type": "markdown",
      "source": [
        "**Complexity:**\n",
        "\n",
        "**Time: O(n)** -> Each pointer moves across the array once\n",
        "\n",
        "**Space: O(1)** -> Only a few variables used, no extra data structures"
      ],
      "metadata": {
        "id": "q5_r_4LYOgIL"
      }
    },
    {
      "cell_type": "code",
      "source": [
        "sol = Solution()\n",
        "\n",
        "# Example 1\n",
        "height1 = [1,8,6,2,5,4,8,3,7]\n",
        "output1 = sol.maxArea(height1)\n",
        "print(\"Example 1 Output:\", output1)  # Expected: 49\n",
        "\n",
        "# Example 2\n",
        "height2 = [1,1]\n",
        "output2 = sol.maxArea(height2)\n",
        "print(\"Example 2 Output:\", output2)  # Expected: 1"
      ],
      "metadata": {
        "colab": {
          "base_uri": "https://localhost:8080/"
        },
        "id": "7PzSxZ6ZO6O7",
        "outputId": "b614e669-994e-4566-de06-7b15c6e4b329"
      },
      "execution_count": 2,
      "outputs": [
        {
          "output_type": "stream",
          "name": "stdout",
          "text": [
            "Example 1 Output: 49\n",
            "Example 2 Output: 1\n"
          ]
        }
      ]
    }
  ]
}